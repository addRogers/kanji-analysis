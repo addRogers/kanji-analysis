{
 "cells": [
  {
   "cell_type": "markdown",
   "source": [
    "# Kanji Analysis\n",
    "Author: Addison Rogers\n"
   ],
   "metadata": {
    "collapsed": false
   }
  },
  {
   "cell_type": "code",
   "execution_count": 2,
   "outputs": [],
   "source": [
    "import pandas as pd\n",
    "\n",
    "assignments_df = pd.read_csv('data/assignments.csv')\n",
    "level_df = pd.read_csv('data/level_progressions.csv')\n",
    "resets_df = pd.read_csv('data/resets.csv')\n",
    "reviewstats_df = pd.read_csv('data/review_statistics.csv')\n",
    "reviews_df = pd.read_csv('data/reviews.csv')\n"
   ],
   "metadata": {
    "collapsed": false,
    "pycharm": {
     "name": "#%%\n"
    }
   }
  },
  {
   "cell_type": "code",
   "execution_count": 4,
   "outputs": [
    {
     "name": "stdout",
     "output_type": "stream",
     "text": [
      "                    created_at  original_level  target_level  \\\n",
      "0  2017-06-19T13:04:14.202230Z               5             1   \n",
      "\n",
      "                  confirmed_at              data_updated_at  \n",
      "0  2017-06-19T13:08:27.092268Z  2017-06-19T13:08:59.389480Z  \n",
      "0   2017-06-19 13:04:14.202230+00:00\n",
      "Name: created_at, dtype: datetime64[ns, UTC]\n",
      "0    2017-06-19T13:04:14.202230Z\n",
      "Name: created_at, dtype: object\n"
     ]
    }
   ],
   "source": [
    "import seaborn as sns\n",
    "sns.set()\n",
    "\n",
    "resets_df.head()\n",
    "# This was when I did a reset; but I did not begin WK again until much later! So this table does not work.\n"
   ],
   "metadata": {
    "collapsed": false,
    "pycharm": {
     "name": "#%%\n"
    }
   }
  }
 ],
 "metadata": {
  "kernelspec": {
   "display_name": "Python 3",
   "language": "python",
   "name": "python3"
  },
  "language_info": {
   "codemirror_mode": {
    "name": "ipython",
    "version": 2
   },
   "file_extension": ".py",
   "mimetype": "text/x-python",
   "name": "python",
   "nbconvert_exporter": "python",
   "pygments_lexer": "ipython2",
   "version": "2.7.6"
  }
 },
 "nbformat": 4,
 "nbformat_minor": 0
}