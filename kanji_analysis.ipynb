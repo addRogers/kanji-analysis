{
 "cells": [
  {
   "cell_type": "markdown",
   "source": [
    "# Kanji Analysis\n",
    "Author: Addison Rogers\n"
   ],
   "metadata": {
    "collapsed": false
   }
  },
  {
   "cell_type": "code",
   "execution_count": null,
   "metadata": {
    "collapsed": true
   },
   "outputs": [],
   "source": [
    "import numpy as np\n",
    "import seaborn as sns"
   ]
  },
  {
   "cell_type": "code",
   "execution_count": 4,
   "outputs": [],
   "source": [
    "import os\n",
    "import pandas as pd\n",
    "\n",
    "assignments_df = pd.read_csv('data/assignments.csv')\n",
    "level_df = pd.read_csv('data/level_progressions.csv')\n",
    "resets_df = pd.read_csv('data/resets.csv')\n",
    "reviewstats_df = pd.read_csv('data/review_statistics.csv')\n",
    "reviews_df = pd.read_csv('data/reviews.csv')"
   ],
   "metadata": {
    "collapsed": false,
    "pycharm": {
     "name": "#%%\n"
    }
   }
  },
  {
   "cell_type": "code",
   "execution_count": 17,
   "outputs": [
    {
     "name": "stdout",
     "output_type": "stream",
     "text": [
      "0   2017-06-19 13:04:14.202230+00:00\n",
      "Name: created_at, dtype: datetime64[ns, UTC]\n",
      "0    2017-06-19T13:04:14.202230Z\n",
      "Name: created_at, dtype: object\n"
     ]
    }
   ],
   "source": [
    "print(pd.to_datetime(resets_df.created_at))\n",
    "print(resets_df.created_at)"
   ],
   "metadata": {
    "collapsed": false,
    "pycharm": {
     "name": "#%%\n"
    }
   }
  }
 ],
 "metadata": {
  "kernelspec": {
   "display_name": "Python 3",
   "language": "python",
   "name": "python3"
  },
  "language_info": {
   "codemirror_mode": {
    "name": "ipython",
    "version": 2
   },
   "file_extension": ".py",
   "mimetype": "text/x-python",
   "name": "python",
   "nbconvert_exporter": "python",
   "pygments_lexer": "ipython2",
   "version": "2.7.6"
  }
 },
 "nbformat": 4,
 "nbformat_minor": 0
}